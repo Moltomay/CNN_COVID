{
 "cells": [
  {
   "cell_type": "code",
   "execution_count": 1,
   "metadata": {
    "_cell_guid": "b1076dfc-b9ad-4769-8c92-a6c4dae69d19",
    "_uuid": "8f2839f25d086af736a60e9eeb907d3b93b6e0e5",
    "execution": {
     "iopub.execute_input": "2021-01-23T11:16:00.076914Z",
     "iopub.status.busy": "2021-01-23T11:16:00.075789Z",
     "iopub.status.idle": "2021-01-23T11:16:07.400005Z",
     "shell.execute_reply": "2021-01-23T11:16:07.401054Z"
    },
    "papermill": {
     "duration": 7.363625,
     "end_time": "2021-01-23T11:16:07.401360",
     "exception": false,
     "start_time": "2021-01-23T11:16:00.037735",
     "status": "completed"
    },
    "tags": []
   },
   "outputs": [
    {
     "name": "stderr",
     "output_type": "stream",
     "text": [
      "Using TensorFlow backend.\n"
     ]
    }
   ],
   "source": [
    "# Environnement de Kaggle qui permet de ne pas utiliser le cpu et la ram de notre machine et qui a deja plusieurs librairies pre-installés\n",
    "\n",
    "import numpy as np \n",
    "import pandas as pd \n",
    "import tensorflow as tf\n",
    "import cv2\n",
    "import matplotlib.pyplot as plt\n",
    "from sklearn.model_selection import train_test_split\n",
    "from tensorflow.keras import datasets, layers, models\n",
    "from keras.utils import np_utils\n",
    "\n",
    "\n",
    "\n",
    "\n",
    "import os\n",
    "        \n",
    "DIR_PATH = '/kaggle/input/covid19-radiography-database/COVID-19 Radiography Database/'\n",
    "CLASSES = ['COVID', 'NORMAL', 'Viral Pneumonia']"
   ]
  },
  {
   "cell_type": "code",
   "execution_count": 2,
   "metadata": {
    "_cell_guid": "79c7e3d0-c299-4dcb-8224-4455121ee9b0",
    "_uuid": "d629ff2d2480ee46fbb7e2d37f6b5fab8052498a",
    "execution": {
     "iopub.execute_input": "2021-01-23T11:16:07.489363Z",
     "iopub.status.busy": "2021-01-23T11:16:07.488595Z",
     "iopub.status.idle": "2021-01-23T11:17:49.091122Z",
     "shell.execute_reply": "2021-01-23T11:17:49.091747Z"
    },
    "papermill": {
     "duration": 101.649442,
     "end_time": "2021-01-23T11:17:49.091948",
     "exception": false,
     "start_time": "2021-01-23T11:16:07.442506",
     "status": "completed"
    },
    "tags": []
   },
   "outputs": [],
   "source": [
    "all_data = []\n",
    "for dirname, _, filenames in os.walk(DIR_PATH): # os.walk retourne premierement le Path puis les directories sous le path puis tous les fichiers du path donc dirname ici sont covid,normal et vp et filenames sont les images sous chaque dirname.\n",
    "    for file in filenames:\n",
    "        if 'png' in file:\n",
    "            image = cv2.imread(os.path.join(dirname, file))\n",
    "            image = cv2.resize(image, (64, 64)) / 255.0 # we resize the image to 64 height and 64 width, we divide by 255 to obtain normalized values between 0 and 1(bcs pixels of the image are between 0 and 255), so that the optimizer doesnt explode and be efficient\n",
    "            label = CLASSES.index(os.path.split(dirname)[-1]) # label sera 0 ou 1 ou 2 un int donc\n",
    "            #print(os.path.split(dirname)[-1]) : retourne '/kaggle/input/covid19-radiography-database/COVID-19 Radiography Database', 'NORMAL' en premier donc le -1 est pour prendre le dernier élément de ce retour qui est 'NORMAL'\n",
    "            all_data.append([image, label])\n",
    "            "
   ]
  },
  {
   "cell_type": "code",
   "execution_count": 3,
   "metadata": {
    "execution": {
     "iopub.execute_input": "2021-01-23T11:17:49.167813Z",
     "iopub.status.busy": "2021-01-23T11:17:49.166932Z",
     "iopub.status.idle": "2021-01-23T11:17:49.171421Z",
     "shell.execute_reply": "2021-01-23T11:17:49.172043Z"
    },
    "papermill": {
     "duration": 0.045663,
     "end_time": "2021-01-23T11:17:49.172231",
     "exception": false,
     "start_time": "2021-01-23T11:17:49.126568",
     "status": "completed"
    },
    "tags": []
   },
   "outputs": [
    {
     "data": {
      "text/plain": [
       "3886"
      ]
     },
     "execution_count": 3,
     "metadata": {},
     "output_type": "execute_result"
    }
   ],
   "source": [
    "len(all_data)"
   ]
  },
  {
   "cell_type": "code",
   "execution_count": 4,
   "metadata": {
    "execution": {
     "iopub.execute_input": "2021-01-23T11:17:49.248984Z",
     "iopub.status.busy": "2021-01-23T11:17:49.248248Z",
     "iopub.status.idle": "2021-01-23T11:17:49.408874Z",
     "shell.execute_reply": "2021-01-23T11:17:49.408179Z"
    },
    "papermill": {
     "duration": 0.201932,
     "end_time": "2021-01-23T11:17:49.409013",
     "exception": false,
     "start_time": "2021-01-23T11:17:49.207081",
     "status": "completed"
    },
    "tags": []
   },
   "outputs": [],
   "source": [
    "X = []\n",
    "y = []\n",
    "for img, lbl in all_data:\n",
    "    X.append(img)\n",
    "    y.append(lbl)\n",
    "X = np.array(X)\n",
    "y = np.array(y)"
   ]
  },
  {
   "cell_type": "code",
   "execution_count": 5,
   "metadata": {
    "execution": {
     "iopub.execute_input": "2021-01-23T11:17:49.488793Z",
     "iopub.status.busy": "2021-01-23T11:17:49.483982Z",
     "iopub.status.idle": "2021-01-23T11:17:49.646827Z",
     "shell.execute_reply": "2021-01-23T11:17:49.646076Z"
    },
    "papermill": {
     "duration": 0.203808,
     "end_time": "2021-01-23T11:17:49.646982",
     "exception": false,
     "start_time": "2021-01-23T11:17:49.443174",
     "status": "completed"
    },
    "tags": []
   },
   "outputs": [],
   "source": [
    "X_train, X_test, y_train, y_test = train_test_split(X, y, test_size=0.3, random_state=0)"
   ]
  },
  {
   "cell_type": "code",
   "execution_count": 6,
   "metadata": {
    "execution": {
     "iopub.execute_input": "2021-01-23T11:17:49.724073Z",
     "iopub.status.busy": "2021-01-23T11:17:49.723314Z",
     "iopub.status.idle": "2021-01-23T11:17:49.726181Z",
     "shell.execute_reply": "2021-01-23T11:17:49.726780Z"
    },
    "papermill": {
     "duration": 0.0446,
     "end_time": "2021-01-23T11:17:49.726976",
     "exception": false,
     "start_time": "2021-01-23T11:17:49.682376",
     "status": "completed"
    },
    "tags": []
   },
   "outputs": [
    {
     "data": {
      "text/plain": [
       "((2720, 64, 64, 3), (1166, 64, 64, 3))"
      ]
     },
     "execution_count": 6,
     "metadata": {},
     "output_type": "execute_result"
    }
   ],
   "source": [
    "X_train.shape,X_test.shape"
   ]
  },
  {
   "cell_type": "markdown",
   "metadata": {},
   "source": [
    "## First model"
   ]
  },
  {
   "cell_type": "code",
   "execution_count": 7,
   "metadata": {
    "execution": {
     "iopub.execute_input": "2021-01-23T11:17:49.872809Z",
     "iopub.status.busy": "2021-01-23T11:17:49.871950Z",
     "iopub.status.idle": "2021-01-23T11:17:50.112857Z",
     "shell.execute_reply": "2021-01-23T11:17:50.112014Z"
    },
    "papermill": {
     "duration": 0.280686,
     "end_time": "2021-01-23T11:17:50.112996",
     "exception": false,
     "start_time": "2021-01-23T11:17:49.832310",
     "status": "completed"
    },
    "tags": []
   },
   "outputs": [],
   "source": [
    "# input shape de l'image (64,64,3) :(width,height,RGB channels),on a le 3 car images couleurs\n",
    "model_1 = models.Sequential() # Le model est sequentiel c'est a dire les données rentrent batch par batch sequence par sequence \n",
    "    \n",
    "model_1.add(layers.Conv2D(30, (5, 5), input_shape=(64, 64, 3), activation='relu')) # Relu fonction linéaire donc elle permet de converger plus rapidement,on sélectionne 30 features de l'image,notamment détection des edges avec une matrice 5*5(filtrage)\n",
    "model_1.add(layers.MaxPooling2D(pool_size=(2, 2))) # Reduction de la dimension de l'image par le biais d'une matrice 2*2 où on garde le max\n",
    "    \n",
    "model_1.add(layers.Conv2D(15, (3, 3), activation='relu')) # on sélectionne 15 features de l'image,avec une matrice 3*3 (filtrage)\n",
    "model_1.add(layers.MaxPooling2D(pool_size=(2, 2)))\n",
    "    \n",
    "model_1.add(layers.Dropout(0.2)) # on perd 20% des neurones du réseau afin d'éviter un over-fitting.\n",
    "model_1.add(layers.Flatten()) # transforme en image qui a une shape à 3 dimensions en un vecteur 1 dimension\n",
    "    \n",
    "model_1.add(layers.Dense(128, activation='relu')) # couche avec 128 neuronnes\n",
    "model_1.add(layers.Dense(50, activation='relu')) # couche avec 50 neuronnes\n",
    "model_1.add(layers.Dense(3, activation='softmax')) # on utilise la fonction softmax car elle permet d'avoir des valeurs en output entre [0,1] ce qui permet une classification avec n'importe quel nbr de classes ici on en a plus que 2 (cas non binaires)\n",
    "    \n",
    "# Compile model\n",
    "model_1.compile(loss=tf.keras.losses.SparseCategoricalCrossentropy(from_logits=True), optimizer='adam', metrics=['accuracy'])\n",
    "#Adam optimizer pour optimiser nos poids ,SparseCategoricalCrossentropyloss function when there are two or more label classes. We expect labels to be provided as integers, which is our case here."
   ]
  },
  {
   "cell_type": "code",
   "execution_count": 8,
   "metadata": {
    "execution": {
     "iopub.execute_input": "2021-01-23T11:17:50.191523Z",
     "iopub.status.busy": "2021-01-23T11:17:50.190729Z",
     "iopub.status.idle": "2021-01-23T11:21:56.588029Z",
     "shell.execute_reply": "2021-01-23T11:21:56.588674Z"
    },
    "papermill": {
     "duration": 246.441147,
     "end_time": "2021-01-23T11:21:56.588896",
     "exception": false,
     "start_time": "2021-01-23T11:17:50.147749",
     "status": "completed"
    },
    "tags": []
   },
   "outputs": [
    {
     "name": "stdout",
     "output_type": "stream",
     "text": [
      "Train on 2720 samples, validate on 1166 samples\n",
      "Epoch 1/30\n",
      "2720/2720 [==============================] - 9s 3ms/sample - loss: 0.8242 - accuracy: 0.7320 - val_loss: 0.6667 - val_accuracy: 0.8937\n",
      "Epoch 2/30\n",
      "2720/2720 [==============================] - 8s 3ms/sample - loss: 0.6735 - accuracy: 0.8849 - val_loss: 0.6495 - val_accuracy: 0.9074\n",
      "Epoch 3/30\n",
      "2720/2720 [==============================] - 9s 3ms/sample - loss: 0.6448 - accuracy: 0.9151 - val_loss: 0.6500 - val_accuracy: 0.9031\n",
      "Epoch 4/30\n",
      "2720/2720 [==============================] - 8s 3ms/sample - loss: 0.6402 - accuracy: 0.9151 - val_loss: 0.6203 - val_accuracy: 0.9322\n",
      "Epoch 5/30\n",
      "2720/2720 [==============================] - 8s 3ms/sample - loss: 0.6292 - accuracy: 0.9224 - val_loss: 0.6368 - val_accuracy: 0.9168\n",
      "Epoch 6/30\n",
      "2720/2720 [==============================] - 8s 3ms/sample - loss: 0.6303 - accuracy: 0.9199 - val_loss: 0.6154 - val_accuracy: 0.9365\n",
      "Epoch 7/30\n",
      "2720/2720 [==============================] - 8s 3ms/sample - loss: 0.6191 - accuracy: 0.9331 - val_loss: 0.6167 - val_accuracy: 0.9331\n",
      "Epoch 8/30\n",
      "2720/2720 [==============================] - 8s 3ms/sample - loss: 0.6188 - accuracy: 0.9320 - val_loss: 0.6170 - val_accuracy: 0.9340\n",
      "Epoch 9/30\n",
      "2720/2720 [==============================] - 8s 3ms/sample - loss: 0.6154 - accuracy: 0.9357 - val_loss: 0.6136 - val_accuracy: 0.9374\n",
      "Epoch 10/30\n",
      "2720/2720 [==============================] - 9s 3ms/sample - loss: 0.6144 - accuracy: 0.9379 - val_loss: 0.6116 - val_accuracy: 0.9383\n",
      "Epoch 11/30\n",
      "2720/2720 [==============================] - 8s 3ms/sample - loss: 0.6098 - accuracy: 0.9415 - val_loss: 0.6069 - val_accuracy: 0.9460\n",
      "Epoch 12/30\n",
      "2720/2720 [==============================] - 8s 3ms/sample - loss: 0.6066 - accuracy: 0.9434 - val_loss: 0.6095 - val_accuracy: 0.9383\n",
      "Epoch 13/30\n",
      "2720/2720 [==============================] - 8s 3ms/sample - loss: 0.5992 - accuracy: 0.9526 - val_loss: 0.6009 - val_accuracy: 0.9494\n",
      "Epoch 14/30\n",
      "2720/2720 [==============================] - 8s 3ms/sample - loss: 0.6074 - accuracy: 0.9452 - val_loss: 0.6363 - val_accuracy: 0.9142\n",
      "Epoch 15/30\n",
      "2720/2720 [==============================] - 8s 3ms/sample - loss: 0.6040 - accuracy: 0.9485 - val_loss: 0.6036 - val_accuracy: 0.9451\n",
      "Epoch 16/30\n",
      "2720/2720 [==============================] - 8s 3ms/sample - loss: 0.5939 - accuracy: 0.9596 - val_loss: 0.6591 - val_accuracy: 0.8868\n",
      "Epoch 17/30\n",
      "2720/2720 [==============================] - 9s 3ms/sample - loss: 0.5980 - accuracy: 0.9526 - val_loss: 0.6098 - val_accuracy: 0.9408\n",
      "Epoch 18/30\n",
      "2720/2720 [==============================] - 8s 3ms/sample - loss: 0.6007 - accuracy: 0.9507 - val_loss: 0.5990 - val_accuracy: 0.9503\n",
      "Epoch 19/30\n",
      "2720/2720 [==============================] - 8s 3ms/sample - loss: 0.5946 - accuracy: 0.9577 - val_loss: 0.6321 - val_accuracy: 0.9151\n",
      "Epoch 20/30\n",
      "2720/2720 [==============================] - 8s 3ms/sample - loss: 0.5921 - accuracy: 0.9610 - val_loss: 0.6087 - val_accuracy: 0.9391\n",
      "Epoch 21/30\n",
      "2720/2720 [==============================] - 8s 3ms/sample - loss: 0.5876 - accuracy: 0.9632 - val_loss: 0.6023 - val_accuracy: 0.9460\n",
      "Epoch 22/30\n",
      "2720/2720 [==============================] - 8s 3ms/sample - loss: 0.5904 - accuracy: 0.9614 - val_loss: 0.5965 - val_accuracy: 0.9563\n",
      "Epoch 23/30\n",
      "2720/2720 [==============================] - 8s 3ms/sample - loss: 0.5852 - accuracy: 0.9643 - val_loss: 0.6089 - val_accuracy: 0.9443\n",
      "Epoch 24/30\n",
      "2720/2720 [==============================] - 8s 3ms/sample - loss: 0.5825 - accuracy: 0.9710 - val_loss: 0.6025 - val_accuracy: 0.9494\n",
      "Epoch 25/30\n",
      "2720/2720 [==============================] - 9s 3ms/sample - loss: 0.5803 - accuracy: 0.9735 - val_loss: 0.5985 - val_accuracy: 0.9520\n",
      "Epoch 26/30\n",
      "2720/2720 [==============================] - 8s 3ms/sample - loss: 0.5802 - accuracy: 0.9702 - val_loss: 0.6052 - val_accuracy: 0.9460\n",
      "Epoch 27/30\n",
      "2720/2720 [==============================] - 8s 3ms/sample - loss: 0.5847 - accuracy: 0.9658 - val_loss: 0.5979 - val_accuracy: 0.9528\n",
      "Epoch 28/30\n",
      "2720/2720 [==============================] - 8s 3ms/sample - loss: 0.5776 - accuracy: 0.9743 - val_loss: 0.6012 - val_accuracy: 0.9494\n",
      "Epoch 29/30\n",
      "2720/2720 [==============================] - 8s 3ms/sample - loss: 0.5774 - accuracy: 0.9750 - val_loss: 0.5956 - val_accuracy: 0.9554\n",
      "Epoch 30/30\n",
      "2720/2720 [==============================] - 8s 3ms/sample - loss: 0.5806 - accuracy: 0.9724 - val_loss: 0.5988 - val_accuracy: 0.9528\n"
     ]
    }
   ],
   "source": [
    "history_1 = model_1.fit(X_train, y_train, epochs=30, \n",
    "                    validation_data=(X_test, y_test),batch_size=50)"
   ]
  },
  {
   "cell_type": "code",
   "execution_count": 9,
   "metadata": {
    "execution": {
     "iopub.execute_input": "2021-01-23T11:21:57.856415Z",
     "iopub.status.busy": "2021-01-23T11:21:57.855167Z",
     "iopub.status.idle": "2021-01-23T11:21:58.923327Z",
     "shell.execute_reply": "2021-01-23T11:21:58.922294Z"
    },
    "papermill": {
     "duration": 1.714876,
     "end_time": "2021-01-23T11:21:58.923479",
     "exception": false,
     "start_time": "2021-01-23T11:21:57.208603",
     "status": "completed"
    },
    "tags": []
   },
   "outputs": [
    {
     "name": "stdout",
     "output_type": "stream",
     "text": [
      "Final CNN accuracy of model 1:  95.28301954269409 %\n"
     ]
    }
   ],
   "source": [
    "scores_1 = model_1.evaluate(X_test, y_test, verbose=0)\n",
    "print('Final CNN accuracy of model 1: ', scores_1[1]*100, \"%\")"
   ]
  },
  {
   "cell_type": "markdown",
   "metadata": {},
   "source": [
    "## Second model"
   ]
  },
  {
   "cell_type": "code",
   "execution_count": 10,
   "metadata": {
    "execution": {
     "iopub.execute_input": "2021-01-23T11:22:01.279458Z",
     "iopub.status.busy": "2021-01-23T11:22:01.271770Z",
     "iopub.status.idle": "2021-01-23T11:22:01.370632Z",
     "shell.execute_reply": "2021-01-23T11:22:01.371153Z"
    },
    "papermill": {
     "duration": 0.702154,
     "end_time": "2021-01-23T11:22:01.371330",
     "exception": false,
     "start_time": "2021-01-23T11:22:00.669176",
     "status": "completed"
    },
    "tags": []
   },
   "outputs": [],
   "source": [
    "#Initializing the CNN\n",
    "#There is also a graph option but we'll use sequential ANN Model\n",
    "model_2 = models.Sequential()\n",
    "\n",
    "#step 1 - Convolution\n",
    "#creating the feature map by using feature detector from ınput image\n",
    "\n",
    "model_2.add(layers.Convolution2D(32,3,3, input_shape=(64,64,3), activation='relu'))\n",
    "#32 Feature maps&detetctors uses 3 by 3 matrices, we can put 128 in the powerful machines\n",
    "\n",
    "#step -2 Pooling\n",
    "model_2.add(layers.MaxPooling2D(pool_size = (2,2)))\n",
    "\n",
    "#second convolution and pooling steps.\n",
    "model_2.add(layers.Convolution2D(32,3,3, input_shape=(64,64,3), activation='relu'))\n",
    "\n",
    "model_2.add(layers.MaxPooling2D(pool_size = (2,2)))\n",
    "\n",
    "#step -3 Flattening\n",
    "model_2.add(layers.Flatten())\n",
    "\n",
    "#step-4 Full connection step\n",
    "model_2.add(layers.Dense(64, activation = 'relu'))\n",
    "model_2.add(layers.Dense(3, activation = 'softmax'))\n",
    "\n",
    "\n",
    "model_2.compile(optimizer='adam', loss=tf.keras.losses.SparseCategoricalCrossentropy(from_logits=True), metrics = ['accuracy'])\n"
   ]
  },
  {
   "cell_type": "code",
   "execution_count": 11,
   "metadata": {
    "execution": {
     "iopub.execute_input": "2021-01-23T11:22:02.544574Z",
     "iopub.status.busy": "2021-01-23T11:22:02.543915Z",
     "iopub.status.idle": "2021-01-23T11:22:30.932461Z",
     "shell.execute_reply": "2021-01-23T11:22:30.933288Z"
    },
    "papermill": {
     "duration": 28.975935,
     "end_time": "2021-01-23T11:22:30.933490",
     "exception": false,
     "start_time": "2021-01-23T11:22:01.957555",
     "status": "completed"
    },
    "tags": []
   },
   "outputs": [
    {
     "name": "stdout",
     "output_type": "stream",
     "text": [
      "Train on 2720 samples, validate on 1166 samples\n",
      "Epoch 1/30\n",
      "2720/2720 [==============================] - 1s 468us/sample - loss: 1.0609 - accuracy: 0.5059 - val_loss: 0.9606 - val_accuracy: 0.7238\n",
      "Epoch 2/30\n",
      "2720/2720 [==============================] - 1s 315us/sample - loss: 0.8815 - accuracy: 0.7250 - val_loss: 0.8213 - val_accuracy: 0.7993\n",
      "Epoch 3/30\n",
      "2720/2720 [==============================] - 1s 324us/sample - loss: 0.7888 - accuracy: 0.7982 - val_loss: 0.7391 - val_accuracy: 0.8448\n",
      "Epoch 4/30\n",
      "2720/2720 [==============================] - 1s 335us/sample - loss: 0.7376 - accuracy: 0.8338 - val_loss: 0.6978 - val_accuracy: 0.8868\n",
      "Epoch 5/30\n",
      "2720/2720 [==============================] - 1s 388us/sample - loss: 0.7191 - accuracy: 0.8449 - val_loss: 0.6986 - val_accuracy: 0.8688\n",
      "Epoch 6/30\n",
      "2720/2720 [==============================] - 1s 335us/sample - loss: 0.7059 - accuracy: 0.8515 - val_loss: 0.6951 - val_accuracy: 0.8645\n",
      "Epoch 7/30\n",
      "2720/2720 [==============================] - 1s 325us/sample - loss: 0.7019 - accuracy: 0.8548 - val_loss: 0.7039 - val_accuracy: 0.8533\n",
      "Epoch 8/30\n",
      "2720/2720 [==============================] - 1s 332us/sample - loss: 0.7020 - accuracy: 0.8496 - val_loss: 0.6756 - val_accuracy: 0.8842\n",
      "Epoch 9/30\n",
      "2720/2720 [==============================] - 1s 349us/sample - loss: 0.6896 - accuracy: 0.8629 - val_loss: 0.6932 - val_accuracy: 0.8628\n",
      "Epoch 10/30\n",
      "2720/2720 [==============================] - 1s 371us/sample - loss: 0.6861 - accuracy: 0.8669 - val_loss: 0.6854 - val_accuracy: 0.8636\n",
      "Epoch 11/30\n",
      "2720/2720 [==============================] - 1s 398us/sample - loss: 0.6816 - accuracy: 0.8699 - val_loss: 0.6692 - val_accuracy: 0.8894\n",
      "Epoch 12/30\n",
      "2720/2720 [==============================] - 1s 342us/sample - loss: 0.6875 - accuracy: 0.8691 - val_loss: 0.6626 - val_accuracy: 0.8954\n",
      "Epoch 13/30\n",
      "2720/2720 [==============================] - 1s 324us/sample - loss: 0.6878 - accuracy: 0.8614 - val_loss: 0.6653 - val_accuracy: 0.8928\n",
      "Epoch 14/30\n",
      "2720/2720 [==============================] - 1s 327us/sample - loss: 0.6773 - accuracy: 0.8735 - val_loss: 0.6635 - val_accuracy: 0.8937\n",
      "Epoch 15/30\n",
      "2720/2720 [==============================] - 1s 337us/sample - loss: 0.6713 - accuracy: 0.8798 - val_loss: 0.6807 - val_accuracy: 0.8688\n",
      "Epoch 16/30\n",
      "2720/2720 [==============================] - 1s 338us/sample - loss: 0.6819 - accuracy: 0.8735 - val_loss: 0.6563 - val_accuracy: 0.8988\n",
      "Epoch 17/30\n",
      "2720/2720 [==============================] - 1s 320us/sample - loss: 0.6671 - accuracy: 0.8842 - val_loss: 0.6828 - val_accuracy: 0.8688\n",
      "Epoch 18/30\n",
      "2720/2720 [==============================] - 1s 321us/sample - loss: 0.6609 - accuracy: 0.8897 - val_loss: 0.6727 - val_accuracy: 0.8791\n",
      "Epoch 19/30\n",
      "2720/2720 [==============================] - 1s 325us/sample - loss: 0.6617 - accuracy: 0.8879 - val_loss: 0.6598 - val_accuracy: 0.8894\n",
      "Epoch 20/30\n",
      "2720/2720 [==============================] - 1s 327us/sample - loss: 0.6707 - accuracy: 0.8809 - val_loss: 0.6667 - val_accuracy: 0.8851\n",
      "Epoch 21/30\n",
      "2720/2720 [==============================] - 1s 321us/sample - loss: 0.6575 - accuracy: 0.8930 - val_loss: 0.6747 - val_accuracy: 0.8799\n",
      "Epoch 22/30\n",
      "2720/2720 [==============================] - 1s 341us/sample - loss: 0.6554 - accuracy: 0.8952 - val_loss: 0.6534 - val_accuracy: 0.9005\n",
      "Epoch 23/30\n",
      "2720/2720 [==============================] - 1s 341us/sample - loss: 0.6486 - accuracy: 0.9059 - val_loss: 0.6555 - val_accuracy: 0.8971\n",
      "Epoch 24/30\n",
      "2720/2720 [==============================] - 1s 339us/sample - loss: 0.6485 - accuracy: 0.9044 - val_loss: 0.6561 - val_accuracy: 0.8979\n",
      "Epoch 25/30\n",
      "2720/2720 [==============================] - 1s 336us/sample - loss: 0.6534 - accuracy: 0.9004 - val_loss: 0.6506 - val_accuracy: 0.8979\n",
      "Epoch 26/30\n",
      "2720/2720 [==============================] - 1s 337us/sample - loss: 0.6559 - accuracy: 0.8956 - val_loss: 0.6636 - val_accuracy: 0.8885\n",
      "Epoch 27/30\n",
      "2720/2720 [==============================] - 1s 337us/sample - loss: 0.6474 - accuracy: 0.9059 - val_loss: 0.6505 - val_accuracy: 0.9031\n",
      "Epoch 28/30\n",
      "2720/2720 [==============================] - 1s 349us/sample - loss: 0.6429 - accuracy: 0.9099 - val_loss: 0.6510 - val_accuracy: 0.9057\n",
      "Epoch 29/30\n",
      "2720/2720 [==============================] - 1s 323us/sample - loss: 0.6587 - accuracy: 0.8901 - val_loss: 0.6515 - val_accuracy: 0.9005\n",
      "Epoch 30/30\n",
      "2720/2720 [==============================] - 1s 328us/sample - loss: 0.6416 - accuracy: 0.9110 - val_loss: 0.6450 - val_accuracy: 0.9074\n"
     ]
    }
   ],
   "source": [
    "history_2 = model_2.fit(X_train, y_train, epochs=30, \n",
    "                    validation_data=(X_test, y_test),batch_size=50)"
   ]
  },
  {
   "cell_type": "code",
   "execution_count": 12,
   "metadata": {
    "execution": {
     "iopub.execute_input": "2021-01-23T11:22:32.425201Z",
     "iopub.status.busy": "2021-01-23T11:22:32.422813Z",
     "iopub.status.idle": "2021-01-23T11:22:32.787870Z",
     "shell.execute_reply": "2021-01-23T11:22:32.786093Z"
    },
    "papermill": {
     "duration": 1.114295,
     "end_time": "2021-01-23T11:22:32.788081",
     "exception": false,
     "start_time": "2021-01-23T11:22:31.673786",
     "status": "completed"
    },
    "tags": []
   },
   "outputs": [
    {
     "name": "stdout",
     "output_type": "stream",
     "text": [
      "Final CNN accuracy of model 2:  90.73756337165833 %\n"
     ]
    }
   ],
   "source": [
    "scores_2 = model_2.evaluate(X_test, y_test, verbose=0)\n",
    "print('Final CNN accuracy of model 2: ', scores_2[1]*100, \"%\")"
   ]
  },
  {
   "cell_type": "markdown",
   "metadata": {},
   "source": [
    "## First model with sgd"
   ]
  },
  {
   "cell_type": "code",
   "execution_count": 13,
   "metadata": {
    "execution": {
     "iopub.execute_input": "2021-01-23T11:22:35.787674Z",
     "iopub.status.busy": "2021-01-23T11:22:35.786900Z",
     "iopub.status.idle": "2021-01-23T11:22:35.934145Z",
     "shell.execute_reply": "2021-01-23T11:22:35.933584Z"
    },
    "papermill": {
     "duration": 0.941901,
     "end_time": "2021-01-23T11:22:35.934285",
     "exception": false,
     "start_time": "2021-01-23T11:22:34.992384",
     "status": "completed"
    },
    "tags": []
   },
   "outputs": [],
   "source": [
    "# input shape de l'image (64,64,3) :(width,height,RGB channels),on a le 3 car images couleurs\n",
    "model_1_sgd = models.Sequential()\n",
    "    \n",
    "model_1_sgd.add(layers.Conv2D(30, (5, 5), input_shape=(64, 64, 3), activation='relu')) # Relu fonction linéaire donc elle permet de converger plus rapidement,on sélectionne 30 features de l'image,notamment détection des edges avec une matrice 5*5(filtrage)\n",
    "model_1_sgd.add(layers.MaxPooling2D(pool_size=(2, 2))) # Reduction de la dimension de l'image par le biais d'une matrice 2*2 où on garde le max\n",
    "    \n",
    "model_1_sgd.add(layers.Conv2D(15, (3, 3), activation='relu')) # on sélectionne 15 features de l'image,avec une matrice 3*3 (filtrage)\n",
    "model_1_sgd.add(layers.MaxPooling2D(pool_size=(2, 2)))\n",
    "    \n",
    "model_1_sgd.add(layers.Dropout(0.2)) # on perd 20% des neurones du réseau afin d'éviter un over-fitting.\n",
    "model_1_sgd.add(layers.Flatten()) # transforme en image qui a une shape à 3 dimensions en un vecteur 1 dimension\n",
    "    \n",
    "model_1_sgd.add(layers.Dense(128, activation='relu')) # couche avec 128 neuronnes\n",
    "model_1_sgd.add(layers.Dense(50, activation='relu')) # couche avec 50 neuronnes\n",
    "model_1_sgd.add(layers.Dense(3, activation='softmax')) # on utilise la fonction softmax car elle permet d'avoir des valeurs en output entre [0,1] ce qui permet une classification avec n'importe quel nbr de classes ici on en a plus que 2 (cas non binaires)\n",
    "    \n",
    "\n",
    "model_1_sgd.compile(loss=tf.keras.losses.SparseCategoricalCrossentropy(from_logits=True), optimizer='sgd', metrics=['accuracy'])"
   ]
  },
  {
   "cell_type": "code",
   "execution_count": 14,
   "metadata": {
    "execution": {
     "iopub.execute_input": "2021-01-23T11:22:37.416412Z",
     "iopub.status.busy": "2021-01-23T11:22:37.413759Z",
     "iopub.status.idle": "2021-01-23T11:26:46.633067Z",
     "shell.execute_reply": "2021-01-23T11:26:46.632489Z"
    },
    "papermill": {
     "duration": 249.960434,
     "end_time": "2021-01-23T11:26:46.633184",
     "exception": false,
     "start_time": "2021-01-23T11:22:36.672750",
     "status": "completed"
    },
    "tags": []
   },
   "outputs": [
    {
     "name": "stdout",
     "output_type": "stream",
     "text": [
      "Train on 2720 samples, validate on 1166 samples\n",
      "Epoch 1/30\n",
      "2720/2720 [==============================] - 9s 3ms/sample - loss: 1.0920 - accuracy: 0.3614 - val_loss: 1.0884 - val_accuracy: 0.3199\n",
      "Epoch 2/30\n",
      "2720/2720 [==============================] - 8s 3ms/sample - loss: 1.0816 - accuracy: 0.3827 - val_loss: 1.0720 - val_accuracy: 0.3285\n",
      "Epoch 3/30\n",
      "2720/2720 [==============================] - 8s 3ms/sample - loss: 1.0549 - accuracy: 0.5151 - val_loss: 1.0138 - val_accuracy: 0.6201\n",
      "Epoch 4/30\n",
      "2720/2720 [==============================] - 8s 3ms/sample - loss: 0.9774 - accuracy: 0.6658 - val_loss: 0.8893 - val_accuracy: 0.8113\n",
      "Epoch 5/30\n",
      "2720/2720 [==============================] - 9s 3ms/sample - loss: 0.8844 - accuracy: 0.6960 - val_loss: 0.7994 - val_accuracy: 0.8216\n",
      "Epoch 6/30\n",
      "2720/2720 [==============================] - 8s 3ms/sample - loss: 0.8419 - accuracy: 0.7235 - val_loss: 0.7773 - val_accuracy: 0.7804\n",
      "Epoch 7/30\n",
      "2720/2720 [==============================] - 8s 3ms/sample - loss: 0.8136 - accuracy: 0.7441 - val_loss: 0.8122 - val_accuracy: 0.7264\n",
      "Epoch 8/30\n",
      "2720/2720 [==============================] - 8s 3ms/sample - loss: 0.7915 - accuracy: 0.7651 - val_loss: 0.7276 - val_accuracy: 0.8491\n",
      "Epoch 9/30\n",
      "2720/2720 [==============================] - 8s 3ms/sample - loss: 0.7854 - accuracy: 0.7614 - val_loss: 0.8093 - val_accuracy: 0.7187\n",
      "Epoch 10/30\n",
      "2720/2720 [==============================] - 12s 4ms/sample - loss: 0.7671 - accuracy: 0.7842 - val_loss: 0.7148 - val_accuracy: 0.8431\n",
      "Epoch 11/30\n",
      "2720/2720 [==============================] - 8s 3ms/sample - loss: 0.7581 - accuracy: 0.7971 - val_loss: 0.7286 - val_accuracy: 0.8302\n",
      "Epoch 12/30\n",
      "2720/2720 [==============================] - 9s 3ms/sample - loss: 0.7403 - accuracy: 0.8099 - val_loss: 0.7311 - val_accuracy: 0.8156\n",
      "Epoch 13/30\n",
      "2720/2720 [==============================] - 8s 3ms/sample - loss: 0.7351 - accuracy: 0.8180 - val_loss: 0.7350 - val_accuracy: 0.8148\n",
      "Epoch 14/30\n",
      "2720/2720 [==============================] - 8s 3ms/sample - loss: 0.7212 - accuracy: 0.8313 - val_loss: 0.7498 - val_accuracy: 0.8027\n",
      "Epoch 15/30\n",
      "2720/2720 [==============================] - 8s 3ms/sample - loss: 0.7195 - accuracy: 0.8390 - val_loss: 0.6982 - val_accuracy: 0.8559\n",
      "Epoch 16/30\n",
      "2720/2720 [==============================] - 8s 3ms/sample - loss: 0.7119 - accuracy: 0.8408 - val_loss: 0.6918 - val_accuracy: 0.8722\n",
      "Epoch 17/30\n",
      "2720/2720 [==============================] - 8s 3ms/sample - loss: 0.7198 - accuracy: 0.8338 - val_loss: 0.8155 - val_accuracy: 0.7204\n",
      "Epoch 18/30\n",
      "2720/2720 [==============================] - 8s 3ms/sample - loss: 0.7014 - accuracy: 0.8603 - val_loss: 0.6720 - val_accuracy: 0.8825\n",
      "Epoch 19/30\n",
      "2720/2720 [==============================] - 9s 3ms/sample - loss: 0.6989 - accuracy: 0.8577 - val_loss: 0.7810 - val_accuracy: 0.7539\n",
      "Epoch 20/30\n",
      "2720/2720 [==============================] - 8s 3ms/sample - loss: 0.6970 - accuracy: 0.8581 - val_loss: 0.6792 - val_accuracy: 0.8791\n",
      "Epoch 21/30\n",
      "2720/2720 [==============================] - 8s 3ms/sample - loss: 0.6923 - accuracy: 0.8585 - val_loss: 0.6642 - val_accuracy: 0.8945\n",
      "Epoch 22/30\n",
      "2720/2720 [==============================] - 8s 3ms/sample - loss: 0.6933 - accuracy: 0.8625 - val_loss: 0.6933 - val_accuracy: 0.8525\n",
      "Epoch 23/30\n",
      "2720/2720 [==============================] - 8s 3ms/sample - loss: 0.6860 - accuracy: 0.8717 - val_loss: 0.7340 - val_accuracy: 0.8105\n",
      "Epoch 24/30\n",
      "2720/2720 [==============================] - 8s 3ms/sample - loss: 0.6825 - accuracy: 0.8721 - val_loss: 0.6659 - val_accuracy: 0.8868\n",
      "Epoch 25/30\n",
      "2720/2720 [==============================] - 8s 3ms/sample - loss: 0.6763 - accuracy: 0.8816 - val_loss: 0.6632 - val_accuracy: 0.8868\n",
      "Epoch 26/30\n",
      "2720/2720 [==============================] - 8s 3ms/sample - loss: 0.6751 - accuracy: 0.8813 - val_loss: 0.6617 - val_accuracy: 0.8928\n",
      "Epoch 27/30\n",
      "2720/2720 [==============================] - 8s 3ms/sample - loss: 0.6733 - accuracy: 0.8827 - val_loss: 0.6547 - val_accuracy: 0.9014\n",
      "Epoch 28/30\n",
      "2720/2720 [==============================] - 8s 3ms/sample - loss: 0.6718 - accuracy: 0.8857 - val_loss: 0.6585 - val_accuracy: 0.8962\n",
      "Epoch 29/30\n",
      "2720/2720 [==============================] - 8s 3ms/sample - loss: 0.6690 - accuracy: 0.8908 - val_loss: 0.6770 - val_accuracy: 0.8756\n",
      "Epoch 30/30\n",
      "2720/2720 [==============================] - 8s 3ms/sample - loss: 0.6676 - accuracy: 0.8879 - val_loss: 0.6493 - val_accuracy: 0.9065\n"
     ]
    }
   ],
   "source": [
    "history_1_sgd = model_1_sgd.fit(X_train, y_train, epochs=30, \n",
    "                    validation_data=(X_test, y_test),batch_size=50)"
   ]
  },
  {
   "cell_type": "code",
   "execution_count": 15,
   "metadata": {
    "execution": {
     "iopub.execute_input": "2021-01-23T11:26:49.215612Z",
     "iopub.status.busy": "2021-01-23T11:26:49.214928Z",
     "iopub.status.idle": "2021-01-23T11:26:50.268771Z",
     "shell.execute_reply": "2021-01-23T11:26:50.268062Z"
    },
    "papermill": {
     "duration": 2.34607,
     "end_time": "2021-01-23T11:26:50.268930",
     "exception": false,
     "start_time": "2021-01-23T11:26:47.922860",
     "status": "completed"
    },
    "tags": []
   },
   "outputs": [
    {
     "name": "stdout",
     "output_type": "stream",
     "text": [
      "Final CNN accuracy of model 1 with sgd:  90.65179824829102 %\n"
     ]
    }
   ],
   "source": [
    "scores_1_sgd = model_1_sgd.evaluate(X_test, y_test, verbose=0)\n",
    "print('Final CNN accuracy of model 1 with sgd: ', scores_1_sgd[1]*100, \"%\")"
   ]
  },
  {
   "cell_type": "markdown",
   "metadata": {
    "papermill": {
     "duration": 1.370701,
     "end_time": "2021-01-23T11:26:55.619719",
     "exception": false,
     "start_time": "2021-01-23T11:26:54.249018",
     "status": "completed"
    },
    "tags": []
   },
   "source": [
    " ## We plot the loss and accuracy of our first model over 30 epochs"
   ]
  },
  {
   "cell_type": "code",
   "execution_count": 16,
   "metadata": {
    "execution": {
     "iopub.execute_input": "2021-01-23T11:26:58.267194Z",
     "iopub.status.busy": "2021-01-23T11:26:58.262795Z",
     "iopub.status.idle": "2021-01-23T11:26:58.705870Z",
     "shell.execute_reply": "2021-01-23T11:26:58.706390Z"
    },
    "papermill": {
     "duration": 1.752456,
     "end_time": "2021-01-23T11:26:58.706530",
     "exception": false,
     "start_time": "2021-01-23T11:26:56.954074",
     "status": "completed"
    },
    "tags": []
   },
   "outputs": [
    {
     "data": {
      "image/png": "[encoded data removed]",
      "text/plain": [
       "<Figure size 1080x360 with 2 Axes>"
      ]
     },
     "metadata": {
      "needs_background": "light"
     },
     "output_type": "display_data"
    }
   ],
   "source": [
    "def plot_acc_loss(results, epochs):\n",
    " acc = results.history['accuracy']\n",
    " loss = results.history['loss']\n",
    " val_acc = results.history['val_accuracy']\n",
    " val_loss = results.history['val_loss']\n",
    " plt.figure(figsize=(15, 5))\n",
    " plt.subplot(121)\n",
    " plt.plot( acc[1:], label='Train_acc')\n",
    " plt.plot( val_acc[1:], label='Test_acc')\n",
    " plt.title('Accuracy over ' + str(epochs) + ' Epochs', size=15)\n",
    " plt.legend()\n",
    " plt.grid(True)\n",
    " plt.subplot(122)\n",
    " plt.plot( loss[1:], label='Train_loss')\n",
    " plt.plot( val_loss[1:], label='Test_loss')\n",
    " plt.title('Loss over ' + str(epochs) +  ' Epochs', size=15)\n",
    " plt.legend()\n",
    " plt.grid(True)\n",
    " plt.show()\n",
    " \n",
    "plot_acc_loss(history_1, 30)"
   ]
  },
  {
   "cell_type": "markdown",
   "metadata": {
    "papermill": {
     "duration": 1.291586,
     "end_time": "2021-01-23T11:27:01.292140",
     "exception": false,
     "start_time": "2021-01-23T11:27:00.000554",
     "status": "completed"
    },
    "tags": []
   },
   "source": [
    "## We plot the loss and accuracy of our second model over 30 epochs"
   ]
  },
  {
   "cell_type": "code",
   "execution_count": 17,
   "metadata": {
    "execution": {
     "iopub.execute_input": "2021-01-23T11:27:04.041226Z",
     "iopub.status.busy": "2021-01-23T11:27:04.040174Z",
     "iopub.status.idle": "2021-01-23T11:27:04.376635Z",
     "shell.execute_reply": "2021-01-23T11:27:04.375951Z"
    },
    "papermill": {
     "duration": 1.686939,
     "end_time": "2021-01-23T11:27:04.376751",
     "exception": false,
     "start_time": "2021-01-23T11:27:02.689812",
     "status": "completed"
    },
    "tags": []
   },
   "outputs": [
    {
     "data": {
      "image/png": "[encoded data removed]",
      "text/plain": [
       "<Figure size 1080x360 with 2 Axes>"
      ]
     },
     "metadata": {
      "needs_background": "light"
     },
     "output_type": "display_data"
    }
   ],
   "source": [
    "plot_acc_loss(history_2, 30)"
   ]
  },
  {
   "cell_type": "markdown",
   "metadata": {
    "papermill": {
     "duration": 1.370962,
     "end_time": "2021-01-23T11:27:07.040456",
     "exception": false,
     "start_time": "2021-01-23T11:27:05.669494",
     "status": "completed"
    },
    "tags": []
   },
   "source": [
    "## We plot the loss and accuracy of our first model this time with sgd as optimizer over 30 epochs."
   ]
  },
  {
   "cell_type": "code",
   "execution_count": 18,
   "metadata": {
    "execution": {
     "iopub.execute_input": "2021-01-23T11:27:09.653282Z",
     "iopub.status.busy": "2021-01-23T11:27:09.652553Z",
     "iopub.status.idle": "2021-01-23T11:27:10.007022Z",
     "shell.execute_reply": "2021-01-23T11:27:10.008210Z"
    },
    "papermill": {
     "duration": 1.660704,
     "end_time": "2021-01-23T11:27:10.008532",
     "exception": false,
     "start_time": "2021-01-23T11:27:08.347828",
     "status": "completed"
    },
    "tags": []
   },
   "outputs": [
    {
     "data": {
      "image/png": "[encoded data removed]",
      "text/plain": [
       "<Figure size 1080x360 with 2 Axes>"
      ]
     },
     "metadata": {
      "needs_background": "light"
     },
     "output_type": "display_data"
    }
   ],
   "source": [
    "plot_acc_loss(history_1_sgd, 30)"
   ]
  },
  {
   "cell_type": "markdown",
   "metadata": {
    "papermill": {
     "duration": 1.329895,
     "end_time": "2021-01-23T11:27:12.681682",
     "exception": false,
     "start_time": "2021-01-23T11:27:11.351787",
     "status": "completed"
    },
    "tags": []
   },
   "source": [
    "## This time we will hot-encode our output to use a different loss function with our first model"
   ]
  },
  {
   "cell_type": "markdown",
   "metadata": {
    "papermill": {
     "duration": 1.427185,
     "end_time": "2021-01-23T11:27:15.412208",
     "exception": false,
     "start_time": "2021-01-23T11:27:13.985023",
     "status": "completed"
    },
    "tags": []
   },
   "source": [
    "## Before we had labels as integers : 0 : covid , 1 : normal and 2 : viral pneumonia for example , now our labels will be vectors: (1,0,0) for example for covid. This will give us the possibility to use a different loss function and see the difference between having and int as outpout and a vector. Because sometimes using integers as output can give higher weights to the category with the higher number and this could mess with our model."
   ]
  },
  {
   "cell_type": "code",
   "execution_count": 19,
   "metadata": {
    "execution": {
     "iopub.execute_input": "2021-01-23T11:27:18.033015Z",
     "iopub.status.busy": "2021-01-23T11:27:18.032323Z",
     "iopub.status.idle": "2021-01-23T11:27:18.036774Z",
     "shell.execute_reply": "2021-01-23T11:27:18.037303Z"
    },
    "papermill": {
     "duration": 1.316366,
     "end_time": "2021-01-23T11:27:18.037530",
     "exception": false,
     "start_time": "2021-01-23T11:27:16.721164",
     "status": "completed"
    },
    "tags": []
   },
   "outputs": [],
   "source": [
    "# one hot encode outputs\n",
    "y_train_cnn = np_utils.to_categorical(y_train)\n",
    "y_test_cnn = np_utils.to_categorical(y_test)\n"
   ]
  },
  {
   "cell_type": "code",
   "execution_count": 20,
   "metadata": {
    "execution": {
     "iopub.execute_input": "2021-01-23T11:27:20.686301Z",
     "iopub.status.busy": "2021-01-23T11:27:20.684366Z",
     "iopub.status.idle": "2021-01-23T11:27:20.809970Z",
     "shell.execute_reply": "2021-01-23T11:27:20.810585Z"
    },
    "papermill": {
     "duration": 1.436918,
     "end_time": "2021-01-23T11:27:20.810775",
     "exception": false,
     "start_time": "2021-01-23T11:27:19.373857",
     "status": "completed"
    },
    "tags": []
   },
   "outputs": [],
   "source": [
    "# input shape de l'image (64,64,3) :(width,height,RGB channels),on a le 3 car images couleurs\n",
    "model_1_encode = models.Sequential()\n",
    "    \n",
    "model_1_encode.add(layers.Conv2D(30, (5, 5), input_shape=(64, 64, 3), activation='relu',)) # Relu fonction linéaire donc elle permet de converger plus rapidement,on sélectionne 30 features de l'image,notamment détection des edges avec une matrice 5*5(filtrage)\n",
    "model_1_encode.add(layers.MaxPooling2D(pool_size=(2, 2))) # Reduction de la dimension de l'image par le biais d'une matrice 2*2 où on garde le max\n",
    "    \n",
    "model_1_encode.add(layers.Conv2D(15, (3, 3), activation='relu')) # on sélectionne 15 features de l'image,avec une matrice 3*3 (filtrage)\n",
    "model_1_encode.add(layers.MaxPooling2D(pool_size=(2, 2)))\n",
    "    \n",
    "model_1_encode.add(layers.Dropout(0.2)) # on perd 20% des neurones du réseau afin d'éviter un over-fitting.\n",
    "model_1_encode.add(layers.Flatten()) # transforme en image qui a une shape à 3 dimensions en un vecteur 1 dimension\n",
    "    \n",
    "model_1_encode.add(layers.Dense(128, activation='relu')) # couche avec 128 neuronnes\n",
    "model_1_encode.add(layers.Dense(50, activation='relu')) # couche avec 50 neuronnes\n",
    "model_1_encode.add(layers.Dense(3, activation='softmax')) # on utilise la fonction softmax car elle permet d'avoir des valeurs en output entre [0,1] ce qui permet une classification avec n'importe quel nbr de classes ici on en a plus que 2 (cas non binaires)\n",
    "    \n",
    "# Compile model\n",
    "model_1_encode.compile(loss='categorical_crossentropy', optimizer='adam', metrics=['accuracy'])\n",
    "#Adam optimizer pour optimiser nos poids ,CategoricalCrossentropyloss function when there are two or more label classes. We expect labels to be provided as vectors."
   ]
  },
  {
   "cell_type": "code",
   "execution_count": 21,
   "metadata": {
    "execution": {
     "iopub.execute_input": "2021-01-23T11:27:23.442708Z",
     "iopub.status.busy": "2021-01-23T11:27:23.441933Z",
     "iopub.status.idle": "2021-01-23T11:31:42.373698Z",
     "shell.execute_reply": "2021-01-23T11:31:42.373074Z"
    },
    "papermill": {
     "duration": 260.230532,
     "end_time": "2021-01-23T11:31:42.373842",
     "exception": false,
     "start_time": "2021-01-23T11:27:22.143310",
     "status": "completed"
    },
    "tags": []
   },
   "outputs": [
    {
     "name": "stdout",
     "output_type": "stream",
     "text": [
      "Train on 2720 samples, validate on 1166 samples\n",
      "Epoch 1/30\n",
      "2720/2720 [==============================] - 9s 3ms/sample - loss: 0.7598 - accuracy: 0.6316 - val_loss: 0.3545 - val_accuracy: 0.8808\n",
      "Epoch 2/30\n",
      "2720/2720 [==============================] - 9s 3ms/sample - loss: 0.2695 - accuracy: 0.8960 - val_loss: 0.2379 - val_accuracy: 0.9211\n",
      "Epoch 3/30\n",
      "2720/2720 [==============================] - 8s 3ms/sample - loss: 0.2385 - accuracy: 0.9125 - val_loss: 0.2092 - val_accuracy: 0.9314\n",
      "Epoch 4/30\n",
      "2720/2720 [==============================] - 9s 3ms/sample - loss: 0.2243 - accuracy: 0.9195 - val_loss: 0.2147 - val_accuracy: 0.9322\n",
      "Epoch 5/30\n",
      "2720/2720 [==============================] - 9s 3ms/sample - loss: 0.1799 - accuracy: 0.9327 - val_loss: 0.2365 - val_accuracy: 0.9160\n",
      "Epoch 6/30\n",
      "2720/2720 [==============================] - 9s 3ms/sample - loss: 0.1590 - accuracy: 0.9412 - val_loss: 0.1763 - val_accuracy: 0.9425\n",
      "Epoch 7/30\n",
      "2720/2720 [==============================] - 8s 3ms/sample - loss: 0.1483 - accuracy: 0.9460 - val_loss: 0.1851 - val_accuracy: 0.9331\n",
      "Epoch 8/30\n",
      "2720/2720 [==============================] - 9s 3ms/sample - loss: 0.1410 - accuracy: 0.9504 - val_loss: 0.2780 - val_accuracy: 0.9074\n",
      "Epoch 9/30\n",
      "2720/2720 [==============================] - 9s 3ms/sample - loss: 0.1340 - accuracy: 0.9467 - val_loss: 0.1597 - val_accuracy: 0.9494\n",
      "Epoch 10/30\n",
      "2720/2720 [==============================] - 8s 3ms/sample - loss: 0.1169 - accuracy: 0.9570 - val_loss: 0.2209 - val_accuracy: 0.9348\n",
      "Epoch 11/30\n",
      "2720/2720 [==============================] - 8s 3ms/sample - loss: 0.1073 - accuracy: 0.9618 - val_loss: 0.1911 - val_accuracy: 0.9374\n",
      "Epoch 12/30\n",
      "2720/2720 [==============================] - 9s 3ms/sample - loss: 0.1348 - accuracy: 0.9478 - val_loss: 0.1736 - val_accuracy: 0.9460\n",
      "Epoch 13/30\n",
      "2720/2720 [==============================] - 9s 3ms/sample - loss: 0.1138 - accuracy: 0.9588 - val_loss: 0.1683 - val_accuracy: 0.9528\n",
      "Epoch 14/30\n",
      "2720/2720 [==============================] - 8s 3ms/sample - loss: 0.0947 - accuracy: 0.9699 - val_loss: 0.1486 - val_accuracy: 0.9485\n",
      "Epoch 15/30\n",
      "2720/2720 [==============================] - 9s 3ms/sample - loss: 0.0705 - accuracy: 0.9750 - val_loss: 0.1612 - val_accuracy: 0.9443\n",
      "Epoch 16/30\n",
      "2720/2720 [==============================] - 9s 3ms/sample - loss: 0.0701 - accuracy: 0.9761 - val_loss: 0.1919 - val_accuracy: 0.9434\n",
      "Epoch 17/30\n",
      "2720/2720 [==============================] - 8s 3ms/sample - loss: 0.0562 - accuracy: 0.9790 - val_loss: 0.1547 - val_accuracy: 0.9528\n",
      "Epoch 18/30\n",
      "2720/2720 [==============================] - 8s 3ms/sample - loss: 0.0558 - accuracy: 0.9794 - val_loss: 0.1705 - val_accuracy: 0.9511\n",
      "Epoch 19/30\n",
      "2720/2720 [==============================] - 9s 3ms/sample - loss: 0.0610 - accuracy: 0.9776 - val_loss: 0.1796 - val_accuracy: 0.9511\n",
      "Epoch 20/30\n",
      "2720/2720 [==============================] - 9s 3ms/sample - loss: 0.0482 - accuracy: 0.9835 - val_loss: 0.1809 - val_accuracy: 0.9494\n",
      "Epoch 21/30\n",
      "2720/2720 [==============================] - 8s 3ms/sample - loss: 0.0580 - accuracy: 0.9816 - val_loss: 0.1565 - val_accuracy: 0.9520\n",
      "Epoch 22/30\n",
      "2720/2720 [==============================] - 8s 3ms/sample - loss: 0.0598 - accuracy: 0.9794 - val_loss: 0.2193 - val_accuracy: 0.9400\n",
      "Epoch 23/30\n",
      "2720/2720 [==============================] - 9s 3ms/sample - loss: 0.0381 - accuracy: 0.9849 - val_loss: 0.1606 - val_accuracy: 0.9571\n",
      "Epoch 24/30\n",
      "2720/2720 [==============================] - 9s 3ms/sample - loss: 0.0409 - accuracy: 0.9871 - val_loss: 0.1707 - val_accuracy: 0.9563\n",
      "Epoch 25/30\n",
      "2720/2720 [==============================] - 8s 3ms/sample - loss: 0.0358 - accuracy: 0.9868 - val_loss: 0.1738 - val_accuracy: 0.9451\n",
      "Epoch 26/30\n",
      "2720/2720 [==============================] - 8s 3ms/sample - loss: 0.0373 - accuracy: 0.9890 - val_loss: 0.1586 - val_accuracy: 0.9545\n",
      "Epoch 27/30\n",
      "2720/2720 [==============================] - 10s 3ms/sample - loss: 0.0364 - accuracy: 0.9853 - val_loss: 0.1778 - val_accuracy: 0.9545\n",
      "Epoch 28/30\n",
      "2720/2720 [==============================] - 8s 3ms/sample - loss: 0.0314 - accuracy: 0.9893 - val_loss: 0.1721 - val_accuracy: 0.9537\n",
      "Epoch 29/30\n",
      "2720/2720 [==============================] - 8s 3ms/sample - loss: 0.0239 - accuracy: 0.9934 - val_loss: 0.1816 - val_accuracy: 0.9597\n",
      "Epoch 30/30\n",
      "2720/2720 [==============================] - 8s 3ms/sample - loss: 0.0282 - accuracy: 0.9901 - val_loss: 0.1868 - val_accuracy: 0.9605\n"
     ]
    }
   ],
   "source": [
    "history_1_encode = model_1_encode.fit(X_train, y_train_cnn, epochs=30, \n",
    "                    validation_data=(X_test, y_test_cnn))"
   ]
  },
  {
   "cell_type": "code",
   "execution_count": 22,
   "metadata": {
    "execution": {
     "iopub.execute_input": "2021-01-23T11:31:46.665953Z",
     "iopub.status.busy": "2021-01-23T11:31:46.665226Z",
     "iopub.status.idle": "2021-01-23T11:31:47.708778Z",
     "shell.execute_reply": "2021-01-23T11:31:47.708055Z"
    },
    "papermill": {
     "duration": 3.193902,
     "end_time": "2021-01-23T11:31:47.708902",
     "exception": false,
     "start_time": "2021-01-23T11:31:44.515000",
     "status": "completed"
    },
    "tags": []
   },
   "outputs": [
    {
     "name": "stdout",
     "output_type": "stream",
     "text": [
      "Final CNN accuracy of model 1 with hot encoding:  96.05488777160645 %\n"
     ]
    }
   ],
   "source": [
    "scores_1_encode = model_1_encode.evaluate(X_test, y_test_cnn, verbose=0)\n",
    "print('Final CNN accuracy of model 1 with hot encoding: ', scores_1_encode[1]*100, \"%\")"
   ]
  },
  {
   "cell_type": "code",
   "execution_count": 23,
   "metadata": {
    "execution": {
     "iopub.execute_input": "2021-01-23T11:31:52.314362Z",
     "iopub.status.busy": "2021-01-23T11:31:52.303239Z",
     "iopub.status.idle": "2021-01-23T11:31:52.675860Z",
     "shell.execute_reply": "2021-01-23T11:31:52.675210Z"
    },
    "papermill": {
     "duration": 2.630141,
     "end_time": "2021-01-23T11:31:52.676043",
     "exception": false,
     "start_time": "2021-01-23T11:31:50.045902",
     "status": "completed"
    },
    "tags": []
   },
   "outputs": [
    {
     "data": {
      "image/png": "[encoded data removed]",
      "text/plain": [
       "<Figure size 1080x360 with 2 Axes>"
      ]
     },
     "metadata": {
      "needs_background": "light"
     },
     "output_type": "display_data"
    }
   ],
   "source": [
    "plot_acc_loss(history_1_encode, 30)"
   ]
  },
  {
   "cell_type": "markdown",
   "metadata": {
    "papermill": {
     "duration": 2.148876,
     "end_time": "2021-01-23T11:31:57.047165",
     "exception": false,
     "start_time": "2021-01-23T11:31:54.898289",
     "status": "completed"
    },
    "tags": []
   },
   "source": [
    "## Some predictions with external data"
   ]
  },
  {
   "cell_type": "markdown",
   "metadata": {
    "papermill": {
     "duration": 2.247498,
     "end_time": "2021-01-23T11:32:01.435899",
     "exception": false,
     "start_time": "2021-01-23T11:31:59.188401",
     "status": "completed"
    },
    "tags": []
   },
   "source": [
    "## First model with sgd optimizer"
   ]
  },
  {
   "cell_type": "code",
   "execution_count": 24,
   "metadata": {
    "execution": {
     "iopub.execute_input": "2021-01-23T11:32:05.743061Z",
     "iopub.status.busy": "2021-01-23T11:32:05.742417Z",
     "iopub.status.idle": "2021-01-23T11:32:06.919041Z",
     "shell.execute_reply": "2021-01-23T11:32:06.918297Z"
    },
    "papermill": {
     "duration": 3.333299,
     "end_time": "2021-01-23T11:32:06.919180",
     "exception": false,
     "start_time": "2021-01-23T11:32:03.585881",
     "status": "completed"
    },
    "tags": []
   },
   "outputs": [
    {
     "name": "stdout",
     "output_type": "stream",
     "text": [
      "Predicted: COVID\n"
     ]
    }
   ],
   "source": [
    "from keras.preprocessing import image\n",
    "test_image = image.load_img('/kaggle/input/test-cnn-covid/Covid19.jpeg', target_size = (64, 64))\n",
    "test_image = image.img_to_array(test_image) # converts image to array\n",
    "test_image = np.expand_dims(test_image, axis = 0) # adds dimension because convolutional layer expects 4 dimensions (the added dimension is the batch size dimension to feed N number of data points at time to the model)\n",
    "output = model_1_sgd.predict(test_image) # return vector with 1 for the prediction and 0 for the rest\n",
    "print(\"Predicted:\", CLASSES[np.argmax(output)]) # max so that it takes the one which is the prediction and returns the name of the predicted class"
   ]
  },
  {
   "cell_type": "code",
   "execution_count": 25,
   "metadata": {
    "execution": {
     "iopub.execute_input": "2021-01-23T11:32:11.357192Z",
     "iopub.status.busy": "2021-01-23T11:32:11.356552Z",
     "iopub.status.idle": "2021-01-23T11:32:11.477295Z",
     "shell.execute_reply": "2021-01-23T11:32:11.478248Z"
    },
    "papermill": {
     "duration": 2.287194,
     "end_time": "2021-01-23T11:32:11.478505",
     "exception": false,
     "start_time": "2021-01-23T11:32:09.191311",
     "status": "completed"
    },
    "tags": []
   },
   "outputs": [
    {
     "name": "stdout",
     "output_type": "stream",
     "text": [
      "Predicted: COVID\n"
     ]
    }
   ],
   "source": [
    "test_image = image.load_img('/kaggle/input/test-cnn-covid/covid19_2.jpeg', target_size = (64, 64))\n",
    "test_image = image.img_to_array(test_image)\n",
    "test_image = np.expand_dims(test_image, axis = 0)\n",
    "output = model_1_sgd.predict(test_image)\n",
    "print(\"Predicted:\", CLASSES[np.argmax(output)])"
   ]
  },
  {
   "cell_type": "code",
   "execution_count": 26,
   "metadata": {
    "execution": {
     "iopub.execute_input": "2021-01-23T11:32:15.868075Z",
     "iopub.status.busy": "2021-01-23T11:32:15.867456Z",
     "iopub.status.idle": "2021-01-23T11:32:15.927482Z",
     "shell.execute_reply": "2021-01-23T11:32:15.926385Z"
    },
    "papermill": {
     "duration": 2.22396,
     "end_time": "2021-01-23T11:32:15.927609",
     "exception": false,
     "start_time": "2021-01-23T11:32:13.703649",
     "status": "completed"
    },
    "tags": []
   },
   "outputs": [
    {
     "name": "stdout",
     "output_type": "stream",
     "text": [
      "Predicted: NORMAL\n"
     ]
    }
   ],
   "source": [
    "test_image = image.load_img('/kaggle/input/test-cnn-covid/healthy.jpeg', target_size = (64, 64))\n",
    "test_image = image.img_to_array(test_image)\n",
    "test_image = np.expand_dims(test_image, axis = 0)\n",
    "output = model_1_sgd.predict(test_image)\n",
    "print(\"Predicted:\", CLASSES[np.argmax(output)])"
   ]
  },
  {
   "cell_type": "code",
   "execution_count": 27,
   "metadata": {
    "execution": {
     "iopub.execute_input": "2021-01-23T11:32:20.360414Z",
     "iopub.status.busy": "2021-01-23T11:32:20.359652Z",
     "iopub.status.idle": "2021-01-23T11:32:20.413245Z",
     "shell.execute_reply": "2021-01-23T11:32:20.412577Z"
    },
    "papermill": {
     "duration": 2.2685,
     "end_time": "2021-01-23T11:32:20.413395",
     "exception": false,
     "start_time": "2021-01-23T11:32:18.144895",
     "status": "completed"
    },
    "tags": []
   },
   "outputs": [
    {
     "name": "stdout",
     "output_type": "stream",
     "text": [
      "Predicted: COVID\n"
     ]
    }
   ],
   "source": [
    "test_image = image.load_img('/kaggle/input/test-cnn-covid/vp2.jpeg', target_size = (64, 64))\n",
    "test_image = image.img_to_array(test_image)\n",
    "test_image = np.expand_dims(test_image, axis = 0)\n",
    "output = model_1_sgd.predict(test_image)\n",
    "print(\"Predicted:\", CLASSES[np.argmax(output)])"
   ]
  },
  {
   "cell_type": "markdown",
   "metadata": {
    "papermill": {
     "duration": 2.178135,
     "end_time": "2021-01-23T11:32:24.851577",
     "exception": false,
     "start_time": "2021-01-23T11:32:22.673442",
     "status": "completed"
    },
    "tags": []
   },
   "source": [
    "## Second model"
   ]
  },
  {
   "cell_type": "code",
   "execution_count": 28,
   "metadata": {
    "execution": {
     "iopub.execute_input": "2021-01-23T11:32:29.195135Z",
     "iopub.status.busy": "2021-01-23T11:32:29.194481Z",
     "iopub.status.idle": "2021-01-23T11:32:29.885394Z",
     "shell.execute_reply": "2021-01-23T11:32:29.884105Z"
    },
    "papermill": {
     "duration": 2.838056,
     "end_time": "2021-01-23T11:32:29.885568",
     "exception": false,
     "start_time": "2021-01-23T11:32:27.047512",
     "status": "completed"
    },
    "tags": []
   },
   "outputs": [
    {
     "name": "stdout",
     "output_type": "stream",
     "text": [
      "Predicted: COVID\n"
     ]
    }
   ],
   "source": [
    "test_image = image.load_img('/kaggle/input/test-cnn-covid/Covid19.jpeg', target_size = (64, 64))\n",
    "test_image = image.img_to_array(test_image)\n",
    "test_image = np.expand_dims(test_image, axis = 0)\n",
    "output = model_2.predict(test_image)\n",
    "print(\"Predicted:\", CLASSES[np.argmax(output)])"
   ]
  },
  {
   "cell_type": "code",
   "execution_count": 29,
   "metadata": {
    "execution": {
     "iopub.execute_input": "2021-01-23T11:32:34.217065Z",
     "iopub.status.busy": "2021-01-23T11:32:34.216443Z",
     "iopub.status.idle": "2021-01-23T11:32:34.307894Z",
     "shell.execute_reply": "2021-01-23T11:32:34.308423Z"
    },
    "papermill": {
     "duration": 2.271411,
     "end_time": "2021-01-23T11:32:34.308599",
     "exception": false,
     "start_time": "2021-01-23T11:32:32.037188",
     "status": "completed"
    },
    "tags": []
   },
   "outputs": [
    {
     "name": "stdout",
     "output_type": "stream",
     "text": [
      "Predicted: COVID\n"
     ]
    }
   ],
   "source": [
    "test_image = image.load_img('/kaggle/input/test-cnn-covid/covid19_2.jpeg', target_size = (64, 64))\n",
    "test_image = image.img_to_array(test_image)\n",
    "test_image = np.expand_dims(test_image, axis = 0)\n",
    "output = model_2.predict(test_image)\n",
    "print(\"Predicted:\", CLASSES[np.argmax(output)])"
   ]
  },
  {
   "cell_type": "code",
   "execution_count": 30,
   "metadata": {
    "execution": {
     "iopub.execute_input": "2021-01-23T11:32:38.655541Z",
     "iopub.status.busy": "2021-01-23T11:32:38.650976Z",
     "iopub.status.idle": "2021-01-23T11:32:38.701189Z",
     "shell.execute_reply": "2021-01-23T11:32:38.700479Z"
    },
    "papermill": {
     "duration": 2.206441,
     "end_time": "2021-01-23T11:32:38.701340",
     "exception": false,
     "start_time": "2021-01-23T11:32:36.494899",
     "status": "completed"
    },
    "tags": []
   },
   "outputs": [
    {
     "name": "stdout",
     "output_type": "stream",
     "text": [
      "Predicted: NORMAL\n"
     ]
    }
   ],
   "source": [
    "test_image = image.load_img('/kaggle/input/test-cnn-covid/healthy.jpeg', target_size = (64, 64))\n",
    "test_image = image.img_to_array(test_image)\n",
    "test_image = np.expand_dims(test_image, axis = 0)\n",
    "output = model_2.predict(test_image)\n",
    "print(\"Predicted:\", CLASSES[np.argmax(output)])"
   ]
  },
  {
   "cell_type": "code",
   "execution_count": 31,
   "metadata": {
    "execution": {
     "iopub.execute_input": "2021-01-23T11:32:43.051415Z",
     "iopub.status.busy": "2021-01-23T11:32:43.050753Z",
     "iopub.status.idle": "2021-01-23T11:32:43.135830Z",
     "shell.execute_reply": "2021-01-23T11:32:43.136556Z"
    },
    "papermill": {
     "duration": 2.298115,
     "end_time": "2021-01-23T11:32:43.136736",
     "exception": false,
     "start_time": "2021-01-23T11:32:40.838621",
     "status": "completed"
    },
    "tags": []
   },
   "outputs": [
    {
     "name": "stdout",
     "output_type": "stream",
     "text": [
      "Predicted: COVID\n"
     ]
    }
   ],
   "source": [
    "test_image = image.load_img('/kaggle/input/test-cnn-covid/healthy2.jpg', target_size = (64, 64))\n",
    "test_image = image.img_to_array(test_image)\n",
    "test_image = np.expand_dims(test_image, axis = 0)\n",
    "output = model_2.predict(test_image)\n",
    "print(\"Predicted:\", CLASSES[np.argmax(output)])"
   ]
  },
  {
   "cell_type": "code",
   "execution_count": 32,
   "metadata": {
    "execution": {
     "iopub.execute_input": "2021-01-23T11:32:47.486294Z",
     "iopub.status.busy": "2021-01-23T11:32:47.485572Z",
     "iopub.status.idle": "2021-01-23T11:32:47.583299Z",
     "shell.execute_reply": "2021-01-23T11:32:47.581093Z"
    },
    "papermill": {
     "duration": 2.247399,
     "end_time": "2021-01-23T11:32:47.583428",
     "exception": false,
     "start_time": "2021-01-23T11:32:45.336029",
     "status": "completed"
    },
    "tags": []
   },
   "outputs": [
    {
     "name": "stdout",
     "output_type": "stream",
     "text": [
      "Predicted: COVID\n"
     ]
    }
   ],
   "source": [
    "test_image = image.load_img('/kaggle/input/test-cnn-covid/healthy4.jpg', target_size = (64, 64))\n",
    "test_image = image.img_to_array(test_image)\n",
    "test_image = np.expand_dims(test_image, axis = 0)\n",
    "output = model_2.predict(test_image)\n",
    "print(\"Predicted:\", CLASSES[np.argmax(output)])"
   ]
  },
  {
   "cell_type": "code",
   "execution_count": 33,
   "metadata": {
    "execution": {
     "iopub.execute_input": "2021-01-23T11:32:51.994919Z",
     "iopub.status.busy": "2021-01-23T11:32:51.994214Z",
     "iopub.status.idle": "2021-01-23T11:32:52.036725Z",
     "shell.execute_reply": "2021-01-23T11:32:52.037541Z"
    },
    "papermill": {
     "duration": 2.309309,
     "end_time": "2021-01-23T11:32:52.037812",
     "exception": false,
     "start_time": "2021-01-23T11:32:49.728503",
     "status": "completed"
    },
    "tags": []
   },
   "outputs": [
    {
     "name": "stdout",
     "output_type": "stream",
     "text": [
      "Predicted: COVID\n"
     ]
    }
   ],
   "source": [
    "test_image = image.load_img('/kaggle/input/test-cnn-covid/vp2.jpeg', target_size = (64, 64))\n",
    "test_image = image.img_to_array(test_image)\n",
    "test_image = np.expand_dims(test_image, axis = 0)\n",
    "output = model_2.predict(test_image)\n",
    "print(\"Predicted:\", CLASSES[np.argmax(output)])"
   ]
  },
  {
   "cell_type": "markdown",
   "metadata": {
    "papermill": {
     "duration": 2.206379,
     "end_time": "2021-01-23T11:32:56.452621",
     "exception": false,
     "start_time": "2021-01-23T11:32:54.246242",
     "status": "completed"
    },
    "tags": []
   },
   "source": [
    "## First model with adam optimizer"
   ]
  },
  {
   "cell_type": "code",
   "execution_count": 34,
   "metadata": {
    "execution": {
     "iopub.execute_input": "2021-01-23T11:33:00.777045Z",
     "iopub.status.busy": "2021-01-23T11:33:00.776382Z",
     "iopub.status.idle": "2021-01-23T11:33:01.491833Z",
     "shell.execute_reply": "2021-01-23T11:33:01.490936Z"
    },
    "papermill": {
     "duration": 2.903435,
     "end_time": "2021-01-23T11:33:01.491962",
     "exception": false,
     "start_time": "2021-01-23T11:32:58.588527",
     "status": "completed"
    },
    "tags": []
   },
   "outputs": [
    {
     "name": "stdout",
     "output_type": "stream",
     "text": [
      "Predicted: COVID\n"
     ]
    }
   ],
   "source": [
    "test_image = image.load_img('/kaggle/input/test-cnn-covid/Covid19.jpeg', target_size = (64, 64))\n",
    "test_image = image.img_to_array(test_image)\n",
    "test_image = np.expand_dims(test_image, axis = 0)\n",
    "output = model_1.predict(test_image)\n",
    "print(\"Predicted:\", CLASSES[np.argmax(output)])"
   ]
  },
  {
   "cell_type": "code",
   "execution_count": 35,
   "metadata": {
    "execution": {
     "iopub.execute_input": "2021-01-23T11:33:05.817811Z",
     "iopub.status.busy": "2021-01-23T11:33:05.816718Z",
     "iopub.status.idle": "2021-01-23T11:33:05.901701Z",
     "shell.execute_reply": "2021-01-23T11:33:05.901010Z"
    },
    "papermill": {
     "duration": 2.259854,
     "end_time": "2021-01-23T11:33:05.901827",
     "exception": false,
     "start_time": "2021-01-23T11:33:03.641973",
     "status": "completed"
    },
    "tags": []
   },
   "outputs": [
    {
     "name": "stdout",
     "output_type": "stream",
     "text": [
      "Predicted: COVID\n"
     ]
    }
   ],
   "source": [
    "test_image = image.load_img('/kaggle/input/test-cnn-covid/covid19_2.jpeg', target_size = (64, 64))\n",
    "test_image = image.img_to_array(test_image)\n",
    "test_image = np.expand_dims(test_image, axis = 0)\n",
    "output = model_1.predict(test_image)\n",
    "print(\"Predicted:\", CLASSES[np.argmax(output)])"
   ]
  },
  {
   "cell_type": "code",
   "execution_count": 36,
   "metadata": {
    "execution": {
     "iopub.execute_input": "2021-01-23T11:33:10.385106Z",
     "iopub.status.busy": "2021-01-23T11:33:10.384383Z",
     "iopub.status.idle": "2021-01-23T11:33:10.438406Z",
     "shell.execute_reply": "2021-01-23T11:33:10.437880Z"
    },
    "papermill": {
     "duration": 2.253098,
     "end_time": "2021-01-23T11:33:10.438520",
     "exception": false,
     "start_time": "2021-01-23T11:33:08.185422",
     "status": "completed"
    },
    "tags": []
   },
   "outputs": [
    {
     "name": "stdout",
     "output_type": "stream",
     "text": [
      "Predicted: COVID\n"
     ]
    }
   ],
   "source": [
    "test_image = image.load_img('/kaggle/input/test-cnn-covid/healthy.jpeg', target_size = (64, 64))\n",
    "test_image = image.img_to_array(test_image)\n",
    "test_image = np.expand_dims(test_image, axis = 0)\n",
    "output = model_1.predict(test_image)\n",
    "print(\"Predicted:\", CLASSES[np.argmax(output)])"
   ]
  },
  {
   "cell_type": "code",
   "execution_count": 37,
   "metadata": {
    "execution": {
     "iopub.execute_input": "2021-01-23T11:33:14.829719Z",
     "iopub.status.busy": "2021-01-23T11:33:14.829000Z",
     "iopub.status.idle": "2021-01-23T11:33:14.881798Z",
     "shell.execute_reply": "2021-01-23T11:33:14.882403Z"
    },
    "papermill": {
     "duration": 2.218956,
     "end_time": "2021-01-23T11:33:14.882547",
     "exception": false,
     "start_time": "2021-01-23T11:33:12.663591",
     "status": "completed"
    },
    "tags": []
   },
   "outputs": [
    {
     "name": "stdout",
     "output_type": "stream",
     "text": [
      "Predicted: COVID\n"
     ]
    }
   ],
   "source": [
    "test_image = image.load_img('/kaggle/input/test-cnn-covid/vp2.jpeg', target_size = (64, 64))\n",
    "test_image = image.img_to_array(test_image)\n",
    "test_image = np.expand_dims(test_image, axis = 0)\n",
    "output = model_1.predict(test_image)\n",
    "print(\"Predicted:\", CLASSES[np.argmax(output)])"
   ]
  },
  {
   "cell_type": "markdown",
   "metadata": {
    "papermill": {
     "duration": 2.282497,
     "end_time": "2021-01-23T11:33:19.330004",
     "exception": false,
     "start_time": "2021-01-23T11:33:17.047507",
     "status": "completed"
    },
    "tags": []
   },
   "source": [
    "## Firs model with one hot encoding"
   ]
  },
  {
   "cell_type": "code",
   "execution_count": 38,
   "metadata": {
    "execution": {
     "iopub.execute_input": "2021-01-23T11:33:23.769812Z",
     "iopub.status.busy": "2021-01-23T11:33:23.767907Z",
     "iopub.status.idle": "2021-01-23T11:33:24.484360Z",
     "shell.execute_reply": "2021-01-23T11:33:24.484956Z"
    },
    "papermill": {
     "duration": 2.955468,
     "end_time": "2021-01-23T11:33:24.485120",
     "exception": false,
     "start_time": "2021-01-23T11:33:21.529652",
     "status": "completed"
    },
    "tags": []
   },
   "outputs": [
    {
     "name": "stdout",
     "output_type": "stream",
     "text": [
      "Predicted: COVID\n"
     ]
    }
   ],
   "source": [
    "test_image = image.load_img('/kaggle/input/test-cnn-covid/Covid19.jpeg', target_size = (64, 64))\n",
    "test_image = image.img_to_array(test_image)\n",
    "test_image = np.expand_dims(test_image, axis = 0)\n",
    "output = model_1_encode.predict(test_image)\n",
    "print(\"Predicted:\", CLASSES[np.argmax(output)])"
   ]
  },
  {
   "cell_type": "code",
   "execution_count": 39,
   "metadata": {
    "execution": {
     "iopub.execute_input": "2021-01-23T11:33:28.850211Z",
     "iopub.status.busy": "2021-01-23T11:33:28.849083Z",
     "iopub.status.idle": "2021-01-23T11:33:28.898712Z",
     "shell.execute_reply": "2021-01-23T11:33:28.899194Z"
    },
    "papermill": {
     "duration": 2.252689,
     "end_time": "2021-01-23T11:33:28.899375",
     "exception": false,
     "start_time": "2021-01-23T11:33:26.646686",
     "status": "completed"
    },
    "tags": []
   },
   "outputs": [
    {
     "name": "stdout",
     "output_type": "stream",
     "text": [
      "Predicted: COVID\n"
     ]
    }
   ],
   "source": [
    "test_image = image.load_img('/kaggle/input/test-cnn-covid/healthy.jpeg', target_size = (64, 64))\n",
    "test_image = image.img_to_array(test_image)\n",
    "test_image = np.expand_dims(test_image, axis = 0)\n",
    "output = model_1_encode.predict(test_image)\n",
    "print(\"Predicted:\", CLASSES[np.argmax(output)])"
   ]
  },
  {
   "cell_type": "code",
   "execution_count": 40,
   "metadata": {
    "execution": {
     "iopub.execute_input": "2021-01-23T11:33:33.240090Z",
     "iopub.status.busy": "2021-01-23T11:33:33.239464Z",
     "iopub.status.idle": "2021-01-23T11:33:33.282510Z",
     "shell.execute_reply": "2021-01-23T11:33:33.281816Z"
    },
    "papermill": {
     "duration": 2.197521,
     "end_time": "2021-01-23T11:33:33.282630",
     "exception": false,
     "start_time": "2021-01-23T11:33:31.085109",
     "status": "completed"
    },
    "tags": []
   },
   "outputs": [
    {
     "name": "stdout",
     "output_type": "stream",
     "text": [
      "Predicted: COVID\n"
     ]
    }
   ],
   "source": [
    "test_image = image.load_img('/kaggle/input/test-cnn-covid/vp2.jpeg', target_size = (64, 64))\n",
    "test_image = image.img_to_array(test_image) \n",
    "test_image = np.expand_dims(test_image, axis = 0) \n",
    "output = model_1_encode.predict(test_image) \n",
    "print(\"Predicted:\", CLASSES[np.argmax(output)]) "
   ]
  }
 ],
 "metadata": {
  "kernelspec": {
   "display_name": "Python 3",
   "language": "python",
   "name": "python3"
  },
  "language_info": {
   "codemirror_mode": {
    "name": "ipython",
    "version": 3
   },
   "file_extension": ".py",
   "mimetype": "text/x-python",
   "name": "python",
   "nbconvert_exporter": "python",
   "pygments_lexer": "ipython3",
   "version": "3.8.3"
  },
  "papermill": {
   "duration": 1064.888213,
   "end_time": "2021-01-23T11:33:40.008840",
   "environment_variables": {},
   "exception": null,
   "input_path": "__notebook__.ipynb",
   "output_path": "__notebook__.ipynb",
   "parameters": {},
   "start_time": "2021-01-23T11:15:55.120627",
   "version": "2.1.0"
  }
 },
 "nbformat": 4,
 "nbformat_minor": 4
}
